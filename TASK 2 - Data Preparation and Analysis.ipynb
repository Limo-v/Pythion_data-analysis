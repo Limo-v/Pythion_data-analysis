{
 "cells": [
  {
   "cell_type": "markdown",
   "metadata": {},
   "source": [
    "This notebook covers **Task 2 - Data Preparation and Analysis**. We will use all of the JSON data collected during Task 1 to perform the analysis process.\n"
   ]
  },
  {
   "cell_type": "code",
   "execution_count": 1,
   "metadata": {},
   "outputs": [],
   "source": [
    "import json\n",
    "import urllib\n",
    "from pathlib import Path\n",
    "from datetime import datetime\n",
    "import pandas as pd\n",
    "import matplotlib\n",
    "import matplotlib.pyplot as plt\n",
    "%matplotlib inline\n",
    "import requests\n",
    "from collections import OrderedDict\n",
    "import numpy as np\n",
    "import glob"
   ]
  },
  {
   "cell_type": "code",
   "execution_count": 2,
   "metadata": {},
   "outputs": [],
   "source": [
    "#Directories for raw storage \n",
    "dir_raw = Path(\"raw\")\n",
    "# directory for storing clean pre-processed data\n",
    "dir_data = Path(\"data\")\n",
    "\n",
    "# make sure it exists\n",
    "dir_raw.mkdir(parents=True, exist_ok=True)"
   ]
  },
  {
   "cell_type": "markdown",
   "metadata": {},
   "source": [
    "## Data Parsing and Merging\n",
    "A function for converting our data into a dataframe with the information we want to analyse."
   ]
  },
  {
   "cell_type": "code",
   "execution_count": 3,
   "metadata": {},
   "outputs": [],
   "source": [
    "#takes in a file path , reads the file and returns data inside\n",
    "def parse_raw_data(f_path):\n",
    "    fin = open(f_path, \"r\")\n",
    "    jdata = fin.read()\n",
    "    \n",
    "    data = json.loads(jdata)\n",
    "    return data"
   ]
  },
  {
   "cell_type": "code",
   "execution_count": 4,
   "metadata": {},
   "outputs": [],
   "source": [
    "#takes in list of races for a particular year , gets the data we need from that year returns it as a dataframe\n",
    "def convert_yearly_races_data_into_df(races):\n",
    "    rows = []\n",
    "    \n",
    "    for race_dict in races:\n",
    "        circuitinfo = race_dict[\"Circuit\"]\n",
    "        results = race_dict[\"Results\"]\n",
    "        driverinfo = results[0][\"Driver\"]\n",
    "        constructorinfo = results[0][\"Constructor\"]\n",
    "        \n",
    "        \n",
    "        row = {\"Season\":race_dict[\"season\"]}\n",
    "        row[\"Race_name\"] = race_dict[\"raceName\"]\n",
    "        row[\"Circuit_name\"] = circuitinfo[\"circuitName\"]\n",
    "        row[\"Circuit_location\"] = circuitinfo[\"circuitName\"]\n",
    "        row[\"Race_date\"] = race_dict[\"date\"]\n",
    "        row[\"Winner\"] = driverinfo[\"givenName\"]+\" \"+driverinfo[\"familyName\"]\n",
    "        row[\"Driver_nationality\"] = driverinfo[\"nationality\"]\n",
    "        row[\"Constructor_Name\"] = constructorinfo[\"name\"]\n",
    "        row[\"Constructor_Nationality\"] = constructorinfo[\"nationality\"]\n",
    "        rows.append(row)\n",
    "    return pd.DataFrame(rows)\n",
    "\n",
    "\n"
   ]
  },
  {
   "cell_type": "markdown",
   "metadata": {},
   "source": [
    "## Data Verification \n",
    "No need to verify the data as there are no null / empty values"
   ]
  },
  {
   "cell_type": "code",
   "execution_count": 5,
   "metadata": {
    "scrolled": false
   },
   "outputs": [],
   "source": [
    "race_year = 2000\n",
    "dict_of_race_winners = {}\n",
    "#send in a file path , we get data from that path(as a list) \n",
    "all_race_data = parse_raw_data(\"all_results.json\")\n",
    "\n",
    "#iterate through list with each index as a year of races\n",
    "\n",
    "while race_year < 2023:\n",
    "    yearly_list = [] \n",
    "    \n",
    "    for x in all_race_data:  \n",
    "        if x.get(\"season\") == str(race_year):   \n",
    "            race_dic = {}\n",
    "            race_dic[\"Year\"] = race_year\n",
    "            race_dic[\"Round\"] = x.get(\"round\")\n",
    "            race_dic[\"Country\"] = x.get(\"Circuit\").get(\"Location\").get(\"country\")\n",
    "            race_dic[\"Race Name\"] = x.get(\"raceName\")            \n",
    "            race_dic[\"Winner\"] = f'{x.get(\"Results\")[0].get(\"Driver\").get(\"givenName\")} {x.get(\"Results\")[0].get(\"Driver\").get(\"familyName\")}'\n",
    "            race_dic[\"Constructor\"] = x.get(\"Results\")[0].get(\"Constructor\").get(\"name\")\n",
    "            race_dic[\"Constructor Nationality\"] = x.get(\"Results\")[0].get(\"Constructor\").get(\"nationality\")\n",
    "            \n",
    "            yearly_list.append(race_dic)\n",
    "    dict_of_race_winners[str(race_year)] = yearly_list\n",
    "        \n",
    "    race_year += 1\n",
    "  \n",
    "    \n",
    "          \n",
    "    #dict_of_race_winners[x.get(\"season\")] = x.get(\"Results\")[0]\n",
    "    #dict_o"
   ]
  },
  {
   "cell_type": "code",
   "execution_count": 6,
   "metadata": {},
   "outputs": [
    {
     "data": {
      "text/html": [
       "<div>\n",
       "<style scoped>\n",
       "    .dataframe tbody tr th:only-of-type {\n",
       "        vertical-align: middle;\n",
       "    }\n",
       "\n",
       "    .dataframe tbody tr th {\n",
       "        vertical-align: top;\n",
       "    }\n",
       "\n",
       "    .dataframe thead th {\n",
       "        text-align: right;\n",
       "    }\n",
       "</style>\n",
       "<table border=\"1\" class=\"dataframe\">\n",
       "  <thead>\n",
       "    <tr style=\"text-align: right;\">\n",
       "      <th></th>\n",
       "      <th>Year</th>\n",
       "      <th>Round</th>\n",
       "      <th>Country</th>\n",
       "      <th>Race Name</th>\n",
       "      <th>Winner</th>\n",
       "      <th>Constructor</th>\n",
       "      <th>Constructor Nationality</th>\n",
       "    </tr>\n",
       "  </thead>\n",
       "  <tbody>\n",
       "    <tr>\n",
       "      <th>0</th>\n",
       "      <td>2020</td>\n",
       "      <td>1</td>\n",
       "      <td>Austria</td>\n",
       "      <td>Austrian Grand Prix</td>\n",
       "      <td>Valtteri Bottas</td>\n",
       "      <td>Mercedes</td>\n",
       "      <td>German</td>\n",
       "    </tr>\n",
       "    <tr>\n",
       "      <th>1</th>\n",
       "      <td>2020</td>\n",
       "      <td>2</td>\n",
       "      <td>Austria</td>\n",
       "      <td>Styrian Grand Prix</td>\n",
       "      <td>Lewis Hamilton</td>\n",
       "      <td>Mercedes</td>\n",
       "      <td>German</td>\n",
       "    </tr>\n",
       "    <tr>\n",
       "      <th>2</th>\n",
       "      <td>2020</td>\n",
       "      <td>1</td>\n",
       "      <td>Austria</td>\n",
       "      <td>Austrian Grand Prix</td>\n",
       "      <td>Valtteri Bottas</td>\n",
       "      <td>Mercedes</td>\n",
       "      <td>German</td>\n",
       "    </tr>\n",
       "    <tr>\n",
       "      <th>3</th>\n",
       "      <td>2020</td>\n",
       "      <td>2</td>\n",
       "      <td>Austria</td>\n",
       "      <td>Styrian Grand Prix</td>\n",
       "      <td>Lewis Hamilton</td>\n",
       "      <td>Mercedes</td>\n",
       "      <td>German</td>\n",
       "    </tr>\n",
       "  </tbody>\n",
       "</table>\n",
       "</div>"
      ],
      "text/plain": [
       "   Year Round  Country            Race Name           Winner Constructor  \\\n",
       "0  2020     1  Austria  Austrian Grand Prix  Valtteri Bottas    Mercedes   \n",
       "1  2020     2  Austria   Styrian Grand Prix   Lewis Hamilton    Mercedes   \n",
       "2  2020     1  Austria  Austrian Grand Prix  Valtteri Bottas    Mercedes   \n",
       "3  2020     2  Austria   Styrian Grand Prix   Lewis Hamilton    Mercedes   \n",
       "\n",
       "  Constructor Nationality  \n",
       "0                  German  \n",
       "1                  German  \n",
       "2                  German  \n",
       "3                  German  "
      ]
     },
     "execution_count": 6,
     "metadata": {},
     "output_type": "execute_result"
    }
   ],
   "source": [
    "pd.DataFrame(dict_of_race_winners[\"2020\"])\n",
    "\n"
   ]
  },
  {
   "cell_type": "markdown",
   "metadata": {},
   "source": [
    "Data Analysis "
   ]
  },
  {
   "cell_type": "markdown",
   "metadata": {},
   "source": [
    "## Drivers with most wins "
   ]
  },
  {
   "cell_type": "markdown",
   "metadata": {},
   "source": [
    "To get the driver with the most wins, I wil first get a list of all the drivers that have raced from 2000 to 2022\n"
   ]
  },
  {
   "cell_type": "code",
   "execution_count": 6,
   "metadata": {},
   "outputs": [],
   "source": [
    "winners = [] # List will contain the winners of all the races from 2000-2022\n",
    "for x in all_race_data:\n",
    "    winners.append(f'{x.get(\"Results\")[0].get(\"Driver\").get(\"givenName\")} {x.get(\"Results\")[0].get(\"Driver\").get(\"familyName\")}')\n",
    "    \n",
    "drivers = set(winners) # All drivers that have ever won arace in the time range given\n"
   ]
  },
  {
   "cell_type": "markdown",
   "metadata": {},
   "source": [
    "I will then define a function that get the number of race wins that all the drivers that have won a race have"
   ]
  },
  {
   "cell_type": "code",
   "execution_count": 7,
   "metadata": {},
   "outputs": [],
   "source": [
    "def get_race_wins(drivers):\n",
    "    wins_dic = {}\n",
    "    for driver in drivers:      \n",
    "\n",
    "        wins_dic[driver] = winners.count(driver)\n",
    "\n",
    "    wins_dic = sorted(wins_dic.items(), key=lambda x:x[1], reverse=True)\n",
    "    \n",
    "    return wins_dic\n",
    "        \n",
    "\n",
    "        "
   ]
  },
  {
   "cell_type": "code",
   "execution_count": 32,
   "metadata": {
    "scrolled": true
   },
   "outputs": [
    {
     "data": {
      "text/html": [
       "<div>\n",
       "<style scoped>\n",
       "    .dataframe tbody tr th:only-of-type {\n",
       "        vertical-align: middle;\n",
       "    }\n",
       "\n",
       "    .dataframe tbody tr th {\n",
       "        vertical-align: top;\n",
       "    }\n",
       "\n",
       "    .dataframe thead th {\n",
       "        text-align: right;\n",
       "    }\n",
       "</style>\n",
       "<table border=\"1\" class=\"dataframe\">\n",
       "  <thead>\n",
       "    <tr style=\"text-align: right;\">\n",
       "      <th></th>\n",
       "      <th>0</th>\n",
       "      <th>1</th>\n",
       "    </tr>\n",
       "  </thead>\n",
       "  <tbody>\n",
       "    <tr>\n",
       "      <th>0</th>\n",
       "      <td>Lewis Hamilton</td>\n",
       "      <td>7</td>\n",
       "    </tr>\n",
       "    <tr>\n",
       "      <th>1</th>\n",
       "      <td>Sebastian Vettel</td>\n",
       "      <td>7</td>\n",
       "    </tr>\n",
       "    <tr>\n",
       "      <th>2</th>\n",
       "      <td>Michael Schumacher</td>\n",
       "      <td>7</td>\n",
       "    </tr>\n",
       "    <tr>\n",
       "      <th>3</th>\n",
       "      <td>Fernando Alonso</td>\n",
       "      <td>5</td>\n",
       "    </tr>\n",
       "    <tr>\n",
       "      <th>4</th>\n",
       "      <td>Jenson Button</td>\n",
       "      <td>4</td>\n",
       "    </tr>\n",
       "    <tr>\n",
       "      <th>5</th>\n",
       "      <td>Kimi Räikkönen</td>\n",
       "      <td>4</td>\n",
       "    </tr>\n",
       "    <tr>\n",
       "      <th>6</th>\n",
       "      <td>Nico Rosberg</td>\n",
       "      <td>3</td>\n",
       "    </tr>\n",
       "    <tr>\n",
       "      <th>7</th>\n",
       "      <td>Max Verstappen</td>\n",
       "      <td>2</td>\n",
       "    </tr>\n",
       "    <tr>\n",
       "      <th>8</th>\n",
       "      <td>Valtteri Bottas</td>\n",
       "      <td>2</td>\n",
       "    </tr>\n",
       "    <tr>\n",
       "      <th>9</th>\n",
       "      <td>Giancarlo Fisichella</td>\n",
       "      <td>2</td>\n",
       "    </tr>\n",
       "  </tbody>\n",
       "</table>\n",
       "</div>"
      ],
      "text/plain": [
       "                      0  1\n",
       "0        Lewis Hamilton  7\n",
       "1      Sebastian Vettel  7\n",
       "2    Michael Schumacher  7\n",
       "3       Fernando Alonso  5\n",
       "4         Jenson Button  4\n",
       "5        Kimi Räikkönen  4\n",
       "6          Nico Rosberg  3\n",
       "7        Max Verstappen  2\n",
       "8       Valtteri Bottas  2\n",
       "9  Giancarlo Fisichella  2"
      ]
     },
     "execution_count": 32,
     "metadata": {},
     "output_type": "execute_result"
    }
   ],
   "source": [
    "pd.DataFrame(get_race_wins(drivers)).head(10)\n",
    "\n",
    "\n",
    "\n"
   ]
  },
  {
   "cell_type": "markdown",
   "metadata": {},
   "source": [
    "In the above dataframe the First column represents the driver names and the second one represents their number of wins"
   ]
  },
  {
   "cell_type": "code",
   "execution_count": 9,
   "metadata": {
    "scrolled": false
   },
   "outputs": [
    {
     "name": "stderr",
     "output_type": "stream",
     "text": [
      "/tmp/ipykernel_21782/3263722085.py:25: MatplotlibDeprecationWarning: The 'b' parameter of grid() has been renamed 'visible' since Matplotlib 3.5; support for the old name will be dropped two minor releases later.\n",
      "  ax.grid(b = True, color ='grey',\n"
     ]
    },
    {
     "data": {
      "image/png": "[encoded data removed]",
      "text/plain": [
       "<Figure size 1152x648 with 1 Axes>"
      ]
     },
     "metadata": {
      "needs_background": "light"
     },
     "output_type": "display_data"
    }
   ],
   "source": [
    "\n",
    "df = pd.DataFrame(get_race_wins(drivers)).head(10)\n",
    " \n",
    "driver = df[0].head(12)\n",
    "wins = df[1].head(12)\n",
    " \n",
    "# Figure Size\n",
    "fig, ax = plt.subplots(figsize =(16, 9))\n",
    " \n",
    "# Horizontal Bar Plot\n",
    "ax.barh(driver, wins)\n",
    " \n",
    "# Remove axes splines\n",
    "for s in ['top', 'bottom', 'left', 'right']:\n",
    "    ax.spines[s].set_visible(False)\n",
    " \n",
    "# Remove x, y Ticks\n",
    "ax.xaxis.set_ticks_position('none')\n",
    "ax.yaxis.set_ticks_position('none')\n",
    " \n",
    "# Add padding between axes and labels\n",
    "ax.xaxis.set_tick_params(pad = 5)\n",
    "ax.yaxis.set_tick_params(pad = 10)\n",
    " \n",
    "# Add x, y gridlines\n",
    "ax.grid(b = True, color ='grey',\n",
    "        linestyle ='-.', linewidth = 0.5,\n",
    "        alpha = 0.2)\n",
    " \n",
    "# Show top values\n",
    "ax.invert_yaxis()\n",
    " \n",
    "# Add annotation to bars\n",
    "for i in ax.patches:\n",
    "    plt.text(i.get_width()+0.2, i.get_y()+0.5,\n",
    "             str(round((i.get_width()), 2)),\n",
    "             fontsize = 10, fontweight ='bold',\n",
    "             color ='grey')\n",
    " \n",
    "# Add Plot Title\n",
    "ax.set_title('Driver With Most wins',\n",
    "             loc ='left', )\n",
    " \n",
    "\n",
    " \n",
    "# Show Plot\n",
    "plt.show()"
   ]
  },
  {
   "cell_type": "markdown",
   "metadata": {},
   "source": [
    "### Constructor with the most wins\n"
   ]
  },
  {
   "cell_type": "code",
   "execution_count": 11,
   "metadata": {},
   "outputs": [],
   "source": [
    "winners = [] # This list will consist of all the races and the constructors whose drivers won from the year 2000- 2022\n",
    "for x in all_race_data:\n",
    "    winners.append(x.get(\"Results\")[0].get(\"Constructor\").get(\"name\"))\n",
    "    \n",
    "constructors = set(winners) # All constructors whose drivers have won a race race in the time range given"
   ]
  },
  {
   "cell_type": "code",
   "execution_count": 12,
   "metadata": {},
   "outputs": [
    {
     "data": {
      "text/html": [
       "<div>\n",
       "<style scoped>\n",
       "    .dataframe tbody tr th:only-of-type {\n",
       "        vertical-align: middle;\n",
       "    }\n",
       "\n",
       "    .dataframe tbody tr th {\n",
       "        vertical-align: top;\n",
       "    }\n",
       "\n",
       "    .dataframe thead th {\n",
       "        text-align: right;\n",
       "    }\n",
       "</style>\n",
       "<table border=\"1\" class=\"dataframe\">\n",
       "  <thead>\n",
       "    <tr style=\"text-align: right;\">\n",
       "      <th></th>\n",
       "      <th>0</th>\n",
       "      <th>1</th>\n",
       "    </tr>\n",
       "  </thead>\n",
       "  <tbody>\n",
       "    <tr>\n",
       "      <th>0</th>\n",
       "      <td>Ferrari</td>\n",
       "      <td>39</td>\n",
       "    </tr>\n",
       "    <tr>\n",
       "      <th>1</th>\n",
       "      <td>Mercedes</td>\n",
       "      <td>22</td>\n",
       "    </tr>\n",
       "    <tr>\n",
       "      <th>2</th>\n",
       "      <td>McLaren</td>\n",
       "      <td>14</td>\n",
       "    </tr>\n",
       "    <tr>\n",
       "      <th>3</th>\n",
       "      <td>Red Bull</td>\n",
       "      <td>10</td>\n",
       "    </tr>\n",
       "    <tr>\n",
       "      <th>4</th>\n",
       "      <td>Renault</td>\n",
       "      <td>10</td>\n",
       "    </tr>\n",
       "    <tr>\n",
       "      <th>5</th>\n",
       "      <td>Brawn</td>\n",
       "      <td>4</td>\n",
       "    </tr>\n",
       "    <tr>\n",
       "      <th>6</th>\n",
       "      <td>Williams</td>\n",
       "      <td>3</td>\n",
       "    </tr>\n",
       "    <tr>\n",
       "      <th>7</th>\n",
       "      <td>Lotus F1</td>\n",
       "      <td>2</td>\n",
       "    </tr>\n",
       "  </tbody>\n",
       "</table>\n",
       "</div>"
      ],
      "text/plain": [
       "          0   1\n",
       "0   Ferrari  39\n",
       "1  Mercedes  22\n",
       "2   McLaren  14\n",
       "3  Red Bull  10\n",
       "4   Renault  10\n",
       "5     Brawn   4\n",
       "6  Williams   3\n",
       "7  Lotus F1   2"
      ]
     },
     "execution_count": 12,
     "metadata": {},
     "output_type": "execute_result"
    }
   ],
   "source": [
    "pd.DataFrame(get_race_wins(constructors)).head(10)"
   ]
  },
  {
   "cell_type": "code",
   "execution_count": 14,
   "metadata": {},
   "outputs": [
    {
     "name": "stderr",
     "output_type": "stream",
     "text": [
      "/tmp/ipykernel_20472/2633101766.py:25: MatplotlibDeprecationWarning: The 'b' parameter of grid() has been renamed 'visible' since Matplotlib 3.5; support for the old name will be dropped two minor releases later.\n",
      "  ax.grid(b = True, color ='grey',\n"
     ]
    },
    {
     "data": {
      "image/png": "[encoded data removed]",
      "text/plain": [
       "<Figure size 1152x648 with 1 Axes>"
      ]
     },
     "metadata": {
      "needs_background": "light"
     },
     "output_type": "display_data"
    }
   ],
   "source": [
    "df = pd.DataFrame(get_race_wins(constructors)).head(10)\n",
    " \n",
    "driver = df[0].head(12)\n",
    "wins = df[1].head(12)\n",
    " \n",
    "# Figure Size\n",
    "fig, ax = plt.subplots(figsize =(16, 9))\n",
    " \n",
    "# Horizontal Bar Plot\n",
    "ax.barh(driver, wins)\n",
    " \n",
    "# Remove axes splines\n",
    "for s in ['top', 'bottom', 'left', 'right']:\n",
    "    ax.spines[s].set_visible(False)\n",
    " \n",
    "# Remove x, y Ticks\n",
    "ax.xaxis.set_ticks_position('none')\n",
    "ax.yaxis.set_ticks_position('none')\n",
    " \n",
    "# Add padding between axes and labels\n",
    "ax.xaxis.set_tick_params(pad = 5)\n",
    "ax.yaxis.set_tick_params(pad = 10)\n",
    " \n",
    "# Add x, y gridlines\n",
    "ax.grid(b = True, color ='grey',\n",
    "        linestyle ='-.', linewidth = 0.5,\n",
    "        alpha = 0.2)\n",
    " \n",
    "# Show top values\n",
    "ax.invert_yaxis()\n",
    " \n",
    "# Add annotation to bars\n",
    "for i in ax.patches:\n",
    "    plt.text(i.get_width()+0.2, i.get_y()+0.5,\n",
    "             str(round((i.get_width()), 2)),\n",
    "             fontsize = 10, fontweight ='bold',\n",
    "             color ='grey')\n",
    " \n",
    "# Add Plot Title\n",
    "ax.set_title('Driver With Most wins',\n",
    "             loc ='left', )\n",
    " \n",
    "\n",
    " \n",
    "# Show Plot\n",
    "plt.show()"
   ]
  },
  {
   "cell_type": "markdown",
   "metadata": {},
   "source": [
    "### Wins by Lewis Hamilton between 2000 to 2022"
   ]
  },
  {
   "cell_type": "code",
   "execution_count": 15,
   "metadata": {},
   "outputs": [
    {
     "data": {
      "text/plain": [
       "14"
      ]
     },
     "execution_count": 15,
     "metadata": {},
     "output_type": "execute_result"
    }
   ],
   "source": [
    "# total number of races between 2000-2022\n",
    "all_races = len(all_race_data)\n",
    "#all races won by Lewis hamilton between 2000-2022\n",
    "winners = [] # List will contain the winners of all the races from 2000-2022\n",
    "for x in all_race_data:\n",
    "    winners.append(f'{x.get(\"Results\")[0].get(\"Driver\").get(\"givenName\")} {x.get(\"Results\")[0].get(\"Driver\").get(\"familyName\")}')\n",
    "hamilton_wins = winners.count(\"Lewis Hamilton\")\n",
    "hamilton_wins"
   ]
  },
  {
   "cell_type": "code",
   "execution_count": 16,
   "metadata": {
    "scrolled": true
   },
   "outputs": [
    {
     "data": {
      "image/png": "[encoded data removed]",
      "text/plain": [
       "<Figure size 864x504 with 1 Axes>"
      ]
     },
     "metadata": {},
     "output_type": "display_data"
    }
   ],
   "source": [
    "names = ['ALL RACES', 'HAMILTON']\n",
    " \n",
    "data = [all_races - hamilton_wins, hamilton_wins]\n",
    " \n",
    "# Creating plot\n",
    "fig = plt.figure(figsize =(12, 7))\n",
    "plt.pie(data, labels = names)\n",
    " \n",
    "# show plot\n",
    "plt.show()"
   ]
  },
  {
   "cell_type": "markdown",
   "metadata": {},
   "source": [
    "### Races won by Michael Schumacher, Max Verstappen and Lewis Hamiston\n",
    "This compares the number of races won the the top 3 drivers between 2000 and 2022.\n"
   ]
  },
  {
   "cell_type": "code",
   "execution_count": 17,
   "metadata": {},
   "outputs": [],
   "source": [
    "winners = [] # List will contain the winners of all the races from 2000-2022\n",
    "for x in all_race_data:\n",
    "    winners.append(f'{x.get(\"Results\")[0].get(\"Driver\").get(\"givenName\")} {x.get(\"Results\")[0].get(\"Driver\").get(\"familyName\")}')\n",
    "hamilton_wins = winners.count(\"Lewis Hamilton\")\n",
    "schumacher_wins = winners.count(\"Michael Schumacher\")\n",
    "verstappen_wins = winners.count(\"Max Verstappen\")"
   ]
  },
  {
   "cell_type": "code",
   "execution_count": 19,
   "metadata": {
    "scrolled": false
   },
   "outputs": [
    {
     "data": {
      "image/png": "[encoded data removed]",
      "text/plain": [
       "<Figure size 720x504 with 1 Axes>"
      ]
     },
     "metadata": {},
     "output_type": "display_data"
    }
   ],
   "source": [
    "names = ['HAMILTON', 'SCHUMACHER', 'VERSTAPPEN']\n",
    " \n",
    "data = [hamilton_wins, schumacher_wins, verstappen_wins]\n",
    " \n",
    " \n",
    " \n",
    "# Creating explode data\n",
    "explode = (0.1, 0.0, 0.2)\n",
    " \n",
    "# Creating color parameters\n",
    "colors = (\"grey\", \"indigo\", \"beige\")\n",
    " \n",
    "# Wedge properties\n",
    "wp = { 'linewidth' : 1, 'edgecolor' : \"green\" }\n",
    " \n",
    "# Creating autocpt arguments\n",
    "def func(pct, allvalues):\n",
    "    absolute = int(pct / 100.*np.sum(allvalues))\n",
    "    return \"{:.1f}%\\n({:d} wins)\".format(pct, absolute)\n",
    " \n",
    "# Creating plot\n",
    "fig, ax = plt.subplots(figsize =(10, 7))\n",
    "wedges, texts, autotexts = ax.pie(data,\n",
    "                                  autopct = lambda pct: func(pct, data),\n",
    "                                  explode = explode,\n",
    "                                  labels = names,\n",
    "                                  shadow = True,\n",
    "                                  colors = colors,\n",
    "                                  startangle = 90,\n",
    "                                  wedgeprops = wp,\n",
    "                                  textprops = dict(color =\"cyan\"))\n",
    " \n",
    "# Adding legend\n",
    "ax.legend(wedges, names,\n",
    "          title =\"Drivers\",\n",
    "          loc =\"center left\",\n",
    "          bbox_to_anchor =(1, 0, 0.5, 1))\n",
    " \n",
    "plt.setp(autotexts, size = 8, weight =\"bold\")\n",
    "ax.set_title(\"Wins by Hamilton, Schumacher and Verstappen\")\n",
    " \n",
    "# show plot\n",
    "plt.show()"
   ]
  },
  {
   "cell_type": "markdown",
   "metadata": {},
   "source": [
    "### Constructor wins in their home country\n",
    "This analyses the probabilty of a constructor to win a race in their own Country"
   ]
  },
  {
   "cell_type": "code",
   "execution_count": 21,
   "metadata": {},
   "outputs": [],
   "source": [
    "#Loop through the list of winners to find out all the constructors that have won races since 2000.\n",
    "constructor_wins_dic = {}# This dictionary will contain winning constuctors and whether the races were won in their home country or away\n",
    "for elem in constructors:  \n",
    "    constructor = elem\n",
    "    \n",
    "    home_win = [] # This list will contain the wins that the constructor had in their country\n",
    "    away_win = [] # This list will contain the wins that the constructor had outside their country\n",
    "\n",
    "    for elem in dict_of_race_winners:\n",
    "        year = (dict_of_race_winners.get(elem))\n",
    "        for elem in year:\n",
    "            if elem.get(\"Constructor\") == constructor:\n",
    "                if elem.get(\"Country\")[:4] == elem.get(\"Constructor Nationality\")[:4]:\n",
    "                    home_win.append(\"1\")\n",
    "         \n",
    "                   \n",
    "                else:\n",
    "                    away_win.append(\"2\")\n",
    "    constructor_wins_dic[constructor] = {\"home\": len(home_win),\n",
    "                                         \"away\": len(away_win)}\n",
    "  \n",
    "\n",
    "    \n",
    "        "
   ]
  },
  {
   "cell_type": "code",
   "execution_count": 22,
   "metadata": {},
   "outputs": [
    {
     "data": {
      "text/html": [
       "<div>\n",
       "<style scoped>\n",
       "    .dataframe tbody tr th:only-of-type {\n",
       "        vertical-align: middle;\n",
       "    }\n",
       "\n",
       "    .dataframe tbody tr th {\n",
       "        vertical-align: top;\n",
       "    }\n",
       "\n",
       "    .dataframe thead th {\n",
       "        text-align: right;\n",
       "    }\n",
       "</style>\n",
       "<table border=\"1\" class=\"dataframe\">\n",
       "  <thead>\n",
       "    <tr style=\"text-align: right;\">\n",
       "      <th></th>\n",
       "      <th>Red Bull</th>\n",
       "      <th>Brawn</th>\n",
       "      <th>Renault</th>\n",
       "      <th>Williams</th>\n",
       "      <th>Lotus F1</th>\n",
       "      <th>McLaren</th>\n",
       "      <th>Ferrari</th>\n",
       "      <th>Mercedes</th>\n",
       "    </tr>\n",
       "  </thead>\n",
       "  <tbody>\n",
       "    <tr>\n",
       "      <th>home</th>\n",
       "      <td>2</td>\n",
       "      <td>0</td>\n",
       "      <td>0</td>\n",
       "      <td>0</td>\n",
       "      <td>0</td>\n",
       "      <td>0</td>\n",
       "      <td>0</td>\n",
       "      <td>0</td>\n",
       "    </tr>\n",
       "    <tr>\n",
       "      <th>away</th>\n",
       "      <td>8</td>\n",
       "      <td>4</td>\n",
       "      <td>10</td>\n",
       "      <td>3</td>\n",
       "      <td>2</td>\n",
       "      <td>14</td>\n",
       "      <td>39</td>\n",
       "      <td>22</td>\n",
       "    </tr>\n",
       "  </tbody>\n",
       "</table>\n",
       "</div>"
      ],
      "text/plain": [
       "      Red Bull  Brawn  Renault  Williams  Lotus F1  McLaren  Ferrari  Mercedes\n",
       "home         2      0        0         0         0        0        0         0\n",
       "away         8      4       10         3         2       14       39        22"
      ]
     },
     "execution_count": 22,
     "metadata": {},
     "output_type": "execute_result"
    }
   ],
   "source": [
    "pd.DataFrame(constructor_wins_dic)"
   ]
  },
  {
   "cell_type": "code",
   "execution_count": 23,
   "metadata": {},
   "outputs": [
    {
     "data": {
      "image/png": "[encoded data removed]",
      "text/plain": [
       "<Figure size 1584x576 with 1 Axes>"
      ]
     },
     "metadata": {
      "needs_background": "light"
     },
     "output_type": "display_data"
    }
   ],
   "source": [
    "\n",
    " \n",
    "constructors = [elem for elem in constructor_wins_dic]\n",
    "\n",
    "\n",
    "# set width of bar\n",
    "barWidth = 0.25\n",
    "fig = plt.subplots(figsize =(22, 8))\n",
    " \n",
    "# set height of bar\n",
    "HOME = [constructor_wins_dic.get(elem).get(\"home\") for elem in constructor_wins_dic]\n",
    "TOTAL = [constructor_wins_dic.get(elem).get(\"home\") + constructor_wins_dic.get(elem).get(\"away\") for elem in constructor_wins_dic]\n",
    "\n",
    " \n",
    "# Set position of bar on X axis\n",
    "br1 = np.arange(len(TOTAL))\n",
    "br2 = [x + barWidth for x in br1]\n",
    "\n",
    " \n",
    "# Make the plot\n",
    "plt.bar(br1, TOTAL, color ='r', width = barWidth,\n",
    "        edgecolor ='grey', label ='TOTAL')\n",
    "plt.bar(br2, HOME, color ='g', width = barWidth,\n",
    "        edgecolor ='grey', label ='HOME')\n",
    "\n",
    " \n",
    "# Adding Xticks\n",
    "plt.xlabel('Constructors', fontweight ='bold', fontsize = 15)\n",
    "plt.ylabel('Wins', fontweight ='bold', fontsize = 15)\n",
    "\n",
    "plt.xticks([r + barWidth for r in range(len(TOTAL))],\n",
    "        constructors)\n",
    " \n",
    "plt.legend()\n",
    "plt.show()"
   ]
  },
  {
   "cell_type": "markdown",
   "metadata": {},
   "source": [
    "### Average finishing position of drivers in 2022\n"
   ]
  },
  {
   "cell_type": "code",
   "execution_count": 24,
   "metadata": {},
   "outputs": [],
   "source": [
    "selected_year = 2022\n",
    "total_appearances = []\n",
    "drivers2022 = [] #Drivers who raced in 2022\n",
    "year_dic = {}\n",
    "for x in parse_raw_data(\"all_results.json\"):  \n",
    "    if x.get(\"season\") == str(selected_year):\n",
    "        results = x.get(\"Results\")\n",
    "        round = x.get(\"round\")\n",
    "        dic = {}\n",
    "        for elem in results:   \n",
    "            driver_full_name = f'{elem.get(\"Driver\").get(\"givenName\")} {elem.get(\"Driver\").get(\"familyName\")}'\n",
    "            dic[driver_full_name] = elem.get(\"position\")\n",
    "            if drivers2022.count(driver_full_name) == 0:\n",
    "                drivers2022.append(driver_full_name)\n",
    "        year_dic[round] = dic\n",
    "\n",
    "            "
   ]
  },
  {
   "cell_type": "markdown",
   "metadata": {},
   "source": [
    "Now that I have a list of all the drivers who raced in 2022 and a dictionary with all the results, I can create a function to calcuate the average finishing position of each driver."
   ]
  },
  {
   "cell_type": "code",
   "execution_count": 27,
   "metadata": {},
   "outputs": [],
   "source": [
    "def get_average_finishing_position(drivers2022, year_dic):\n",
    "    average_finish_positions = {}\n",
    "    for driver in drivers2022:\n",
    "        positions = []\n",
    "        \n",
    "        for elem in year_dic:\n",
    "            round_ = year_dic.get(elem)\n",
    "            for elem in round_:\n",
    "                if elem == driver:\n",
    "                    positions.append(round_.get(elem))\n",
    "        average_finish = sum(int(elem) for elem in positions)/ len(positions)\n",
    "        average_finish_positions[driver] = average_finish\n",
    "    average_finish_positions = sorted(average_finish_positions.items(), key=lambda x:x[1])\n",
    "    return average_finish_positions"
   ]
  },
  {
   "cell_type": "code",
   "execution_count": 28,
   "metadata": {},
   "outputs": [
    {
     "data": {
      "text/html": [
       "<div>\n",
       "<style scoped>\n",
       "    .dataframe tbody tr th:only-of-type {\n",
       "        vertical-align: middle;\n",
       "    }\n",
       "\n",
       "    .dataframe tbody tr th {\n",
       "        vertical-align: top;\n",
       "    }\n",
       "\n",
       "    .dataframe thead th {\n",
       "        text-align: right;\n",
       "    }\n",
       "</style>\n",
       "<table border=\"1\" class=\"dataframe\">\n",
       "  <thead>\n",
       "    <tr style=\"text-align: right;\">\n",
       "      <th></th>\n",
       "      <th>0</th>\n",
       "      <th>1</th>\n",
       "    </tr>\n",
       "  </thead>\n",
       "  <tbody>\n",
       "    <tr>\n",
       "      <th>0</th>\n",
       "      <td>Charles Leclerc</td>\n",
       "      <td>1.5</td>\n",
       "    </tr>\n",
       "    <tr>\n",
       "      <th>1</th>\n",
       "      <td>Carlos Sainz</td>\n",
       "      <td>2.5</td>\n",
       "    </tr>\n",
       "    <tr>\n",
       "      <th>2</th>\n",
       "      <td>George Russell</td>\n",
       "      <td>4.5</td>\n",
       "    </tr>\n",
       "    <tr>\n",
       "      <th>3</th>\n",
       "      <td>Valtteri Bottas</td>\n",
       "      <td>6.0</td>\n",
       "    </tr>\n",
       "    <tr>\n",
       "      <th>4</th>\n",
       "      <td>Lewis Hamilton</td>\n",
       "      <td>6.5</td>\n",
       "    </tr>\n",
       "    <tr>\n",
       "      <th>5</th>\n",
       "      <td>Esteban Ocon</td>\n",
       "      <td>6.5</td>\n",
       "    </tr>\n",
       "    <tr>\n",
       "      <th>6</th>\n",
       "      <td>Kevin Magnussen</td>\n",
       "      <td>7.0</td>\n",
       "    </tr>\n",
       "    <tr>\n",
       "      <th>7</th>\n",
       "      <td>Yuki Tsunoda</td>\n",
       "      <td>8.0</td>\n",
       "    </tr>\n",
       "    <tr>\n",
       "      <th>8</th>\n",
       "      <td>Fernando Alonso</td>\n",
       "      <td>9.0</td>\n",
       "    </tr>\n",
       "    <tr>\n",
       "      <th>9</th>\n",
       "      <td>Guanyu Zhou</td>\n",
       "      <td>10.0</td>\n",
       "    </tr>\n",
       "    <tr>\n",
       "      <th>10</th>\n",
       "      <td>Max Verstappen</td>\n",
       "      <td>10.0</td>\n",
       "    </tr>\n",
       "    <tr>\n",
       "      <th>11</th>\n",
       "      <td>Mick Schumacher</td>\n",
       "      <td>11.0</td>\n",
       "    </tr>\n",
       "    <tr>\n",
       "      <th>12</th>\n",
       "      <td>Lando Norris</td>\n",
       "      <td>11.0</td>\n",
       "    </tr>\n",
       "    <tr>\n",
       "      <th>13</th>\n",
       "      <td>Sergio Pérez</td>\n",
       "      <td>11.0</td>\n",
       "    </tr>\n",
       "    <tr>\n",
       "      <th>14</th>\n",
       "      <td>Lance Stroll</td>\n",
       "      <td>12.0</td>\n",
       "    </tr>\n",
       "    <tr>\n",
       "      <th>15</th>\n",
       "      <td>Alexander Albon</td>\n",
       "      <td>13.0</td>\n",
       "    </tr>\n",
       "    <tr>\n",
       "      <th>16</th>\n",
       "      <td>Daniel Ricciardo</td>\n",
       "      <td>14.0</td>\n",
       "    </tr>\n",
       "    <tr>\n",
       "      <th>17</th>\n",
       "      <td>Pierre Gasly</td>\n",
       "      <td>14.0</td>\n",
       "    </tr>\n",
       "    <tr>\n",
       "      <th>18</th>\n",
       "      <td>Nicholas Latifi</td>\n",
       "      <td>16.0</td>\n",
       "    </tr>\n",
       "    <tr>\n",
       "      <th>19</th>\n",
       "      <td>Nico Hülkenberg</td>\n",
       "      <td>17.0</td>\n",
       "    </tr>\n",
       "  </tbody>\n",
       "</table>\n",
       "</div>"
      ],
      "text/plain": [
       "                   0     1\n",
       "0    Charles Leclerc   1.5\n",
       "1       Carlos Sainz   2.5\n",
       "2     George Russell   4.5\n",
       "3    Valtteri Bottas   6.0\n",
       "4     Lewis Hamilton   6.5\n",
       "5       Esteban Ocon   6.5\n",
       "6    Kevin Magnussen   7.0\n",
       "7       Yuki Tsunoda   8.0\n",
       "8    Fernando Alonso   9.0\n",
       "9        Guanyu Zhou  10.0\n",
       "10    Max Verstappen  10.0\n",
       "11   Mick Schumacher  11.0\n",
       "12      Lando Norris  11.0\n",
       "13      Sergio Pérez  11.0\n",
       "14      Lance Stroll  12.0\n",
       "15   Alexander Albon  13.0\n",
       "16  Daniel Ricciardo  14.0\n",
       "17      Pierre Gasly  14.0\n",
       "18   Nicholas Latifi  16.0\n",
       "19   Nico Hülkenberg  17.0"
      ]
     },
     "execution_count": 28,
     "metadata": {},
     "output_type": "execute_result"
    }
   ],
   "source": [
    "pd.DataFrame(get_average_finishing_position(drivers2022, year_dic))"
   ]
  },
  {
   "cell_type": "code",
   "execution_count": 29,
   "metadata": {
    "scrolled": true
   },
   "outputs": [
    {
     "name": "stderr",
     "output_type": "stream",
     "text": [
      "/tmp/ipykernel_20472/859342568.py:25: MatplotlibDeprecationWarning: The 'b' parameter of grid() has been renamed 'visible' since Matplotlib 3.5; support for the old name will be dropped two minor releases later.\n",
      "  ax.grid(b = True, color ='grey',\n"
     ]
    },
    {
     "data": {
      "image/png": "[encoded data removed]",
      "text/plain": [
       "<Figure size 1152x648 with 1 Axes>"
      ]
     },
     "metadata": {
      "needs_background": "light"
     },
     "output_type": "display_data"
    }
   ],
   "source": [
    "df = pd.DataFrame(get_average_finishing_position(drivers2022, year_dic)).head(10)\n",
    " \n",
    "driver = df[0].head(12)\n",
    "finish = df[1].head(12)\n",
    " \n",
    "# Figure Size\n",
    "fig, ax = plt.subplots(figsize =(16, 9))\n",
    " \n",
    "# Horizontal Bar Plot\n",
    "ax.bar(driver, finish)\n",
    " \n",
    "# Remove axes splines\n",
    "for s in ['top', 'bottom', 'left', 'right']:\n",
    "    ax.spines[s].set_visible(False)\n",
    " \n",
    "# Remove x, y Ticks\n",
    "ax.xaxis.set_ticks_position('none')\n",
    "ax.yaxis.set_ticks_position('none')\n",
    " \n",
    "# Add padding between axes and labels\n",
    "ax.xaxis.set_tick_params(pad = 5)\n",
    "ax.yaxis.set_tick_params(pad = 10)\n",
    " \n",
    "# Add x, y gridlines\n",
    "ax.grid(b = True, color ='grey',\n",
    "        linestyle ='-.', linewidth = 0.5,\n",
    "        alpha = 0.2)\n",
    " \n",
    "# Show top values\n",
    "#ax.invert_yaxis()\n",
    " \n",
    " \n",
    "# Add Plot Title\n",
    "ax.set_title('Average Finish Positions by Drivers in 2022',\n",
    "             loc ='left', )\n",
    " \n",
    "\n",
    " \n",
    "# Show Plot\n",
    "plt.show()"
   ]
  },
  {
   "cell_type": "markdown",
   "metadata": {},
   "source": [
    "### Driver experience for the past 22 years\n",
    "This analysis aims to find out the experience F! drivers have gained in the past 22years by looking at how many races they have participated in the range of time"
   ]
  },
  {
   "cell_type": "code",
   "execution_count": 30,
   "metadata": {
    "scrolled": false
   },
   "outputs": [],
   "source": [
    "# Get all drivers who participated in races since 2000\n",
    "selected_year = 2000\n",
    "total_appearances = []\n",
    "drivers = [] #Drivers who raced between 2000 and 2022\n",
    "all_time_dic = {}\n",
    "for x in parse_raw_data(\"all_results.json\"):\n",
    "            results = x.get(\"Results\")\n",
    "            round_ = x.get(\"round\")\n",
    "       \n",
    "            dic = {}\n",
    "            for elem in results:   \n",
    "                driver_full_name = f'{elem.get(\"Driver\").get(\"givenName\")} {elem.get(\"Driver\").get(\"familyName\")}'\n",
    "        \n",
    "                dic[driver_full_name] = round_\n",
    "           \n",
    "                if drivers.count(driver_full_name) == 0:\n",
    "                    drivers.append(driver_full_name)\n",
    "            all_time_dic[f\"{x.get('season')} {round_}\"] = dic\n",
    "  "
   ]
  },
  {
   "cell_type": "code",
   "execution_count": 31,
   "metadata": {},
   "outputs": [],
   "source": [
    "def get_total_appearances(drivers, all_time_dic):\n",
    "    total_appearances = {}\n",
    "    for driver in drivers:\n",
    "        positions = []        \n",
    "        for elem in all_time_dic:\n",
    "            round_ = all_time_dic.get(elem)\n",
    "            for elem in round_:\n",
    "                if elem == driver:\n",
    "                    positions.append(round_.get(elem))\n",
    "        appearances =  len(positions)\n",
    "        total_appearances[driver] = appearances\n",
    "    total_appearances = sorted(total_appearances.items(), key=lambda x:x[1], reverse=True)\n",
    "    return total_appearances"
   ]
  },
  {
   "cell_type": "code",
   "execution_count": 32,
   "metadata": {
    "scrolled": true
   },
   "outputs": [
    {
     "data": {
      "text/html": [
       "<div>\n",
       "<style scoped>\n",
       "    .dataframe tbody tr th:only-of-type {\n",
       "        vertical-align: middle;\n",
       "    }\n",
       "\n",
       "    .dataframe tbody tr th {\n",
       "        vertical-align: top;\n",
       "    }\n",
       "\n",
       "    .dataframe thead th {\n",
       "        text-align: right;\n",
       "    }\n",
       "</style>\n",
       "<table border=\"1\" class=\"dataframe\">\n",
       "  <thead>\n",
       "    <tr style=\"text-align: right;\">\n",
       "      <th></th>\n",
       "      <th>0</th>\n",
       "      <th>1</th>\n",
       "    </tr>\n",
       "  </thead>\n",
       "  <tbody>\n",
       "    <tr>\n",
       "      <th>0</th>\n",
       "      <td>Lewis Hamilton</td>\n",
       "      <td>31</td>\n",
       "    </tr>\n",
       "    <tr>\n",
       "      <th>1</th>\n",
       "      <td>Fernando Alonso</td>\n",
       "      <td>30</td>\n",
       "    </tr>\n",
       "    <tr>\n",
       "      <th>2</th>\n",
       "      <td>Kimi Räikkönen</td>\n",
       "      <td>29</td>\n",
       "    </tr>\n",
       "    <tr>\n",
       "      <th>3</th>\n",
       "      <td>Felipe Massa</td>\n",
       "      <td>27</td>\n",
       "    </tr>\n",
       "    <tr>\n",
       "      <th>4</th>\n",
       "      <td>Jenson Button</td>\n",
       "      <td>26</td>\n",
       "    </tr>\n",
       "    <tr>\n",
       "      <th>5</th>\n",
       "      <td>Sebastian Vettel</td>\n",
       "      <td>21</td>\n",
       "    </tr>\n",
       "    <tr>\n",
       "      <th>6</th>\n",
       "      <td>Jarno Trulli</td>\n",
       "      <td>20</td>\n",
       "    </tr>\n",
       "    <tr>\n",
       "      <th>7</th>\n",
       "      <td>Nick Heidfeld</td>\n",
       "      <td>18</td>\n",
       "    </tr>\n",
       "    <tr>\n",
       "      <th>8</th>\n",
       "      <td>Michael Schumacher</td>\n",
       "      <td>17</td>\n",
       "    </tr>\n",
       "    <tr>\n",
       "      <th>9</th>\n",
       "      <td>Mark Webber</td>\n",
       "      <td>17</td>\n",
       "    </tr>\n",
       "  </tbody>\n",
       "</table>\n",
       "</div>"
      ],
      "text/plain": [
       "                    0   1\n",
       "0      Lewis Hamilton  31\n",
       "1     Fernando Alonso  30\n",
       "2      Kimi Räikkönen  29\n",
       "3        Felipe Massa  27\n",
       "4       Jenson Button  26\n",
       "5    Sebastian Vettel  21\n",
       "6        Jarno Trulli  20\n",
       "7       Nick Heidfeld  18\n",
       "8  Michael Schumacher  17\n",
       "9         Mark Webber  17"
      ]
     },
     "execution_count": 32,
     "metadata": {},
     "output_type": "execute_result"
    }
   ],
   "source": [
    "pd.DataFrame(get_total_appearances(drivers, all_time_dic)).head(10)"
   ]
  },
  {
   "cell_type": "code",
   "execution_count": 287,
   "metadata": {},
   "outputs": [
    {
     "data": {
      "image/png": "[encoded data removed]",
      "text/plain": [
       "<Figure size 1296x432 with 1 Axes>"
      ]
     },
     "metadata": {
      "needs_background": "light"
     },
     "output_type": "display_data"
    }
   ],
   "source": [
    "\n",
    "\n",
    "# creating the dataset\n",
    "df = pd.DataFrame(get_total_appearances(drivers, all_time_dic)).head(10)\n",
    " \n",
    "drivers = df[0].head(10)\n",
    "appearances = df[1].head(12)\n",
    "  \n",
    "fig = plt.figure(figsize = (18, 6))\n",
    " \n",
    "# creating the bar plot\n",
    "plt.bar(drivers, appearances, color ='maroon',\n",
    "        width = 0.4)\n",
    " \n",
    "plt.xlabel(\"drivers\")\n",
    "plt.ylabel(\"Appearances\")\n",
    "plt.title(\"Drivers Experience 2000-2022\")\n",
    "plt.show()"
   ]
  },
  {
   "cell_type": "markdown",
   "metadata": {},
   "source": [
    "### Discussion and Conclusion\n",
    "##### Challenges faced during data extraction.\n",
    "When collecting the data from my chosen public API the main challenge was page size limits. Tha data could have been collected fatster had there not been limits to the size of data that could be accesses by one call. Aside that, The documetation of the public API is not picture perfect and the developer in some cases has to figure out things on his own that would have been easily been included in the documentation to facility seamess API experince.\n",
    "\n",
    "##### Insight gained from analysis\n",
    "The Main insight gained from the analysis of F1 one data is how the spoer has developed with time since its inception in the year 1950 to date. The sport has also become safer with the years with reduced accidents and therefore became more popular and consequentl increasing the number of events per year.\n",
    "\n",
    "##### Further analysis\n",
    "The data from the API has a lot of data ponts on F1 statistics which can be subjected to more analysis. A few analyses that can be perfomed include; -Average age of drivers per year - Pole positions and pole+wins per driver"
   ]
  }
 ],
 "metadata": {
  "kernelspec": {
   "display_name": "Python 3 (ipykernel)",
   "language": "python",
   "name": "python3"
  },
  "language_info": {
   "codemirror_mode": {
    "name": "ipython",
    "version": 3
   },
   "file_extension": ".py",
   "mimetype": "text/x-python",
   "name": "python",
   "nbconvert_exporter": "python",
   "pygments_lexer": "ipython3",
   "version": "3.10.6"
  }
 },
 "nbformat": 4,
 "nbformat_minor": 4
}
