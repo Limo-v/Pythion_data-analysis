{
 "cells": [
  {
   "cell_type": "markdown",
   "metadata": {},
   "source": [
    "This notebook covers **Task 1 - Data Collection**. Lucklily from this API, We only need to run this once to get the data.\n",
    "In this Notebook,I are going to collect Formula One drivers' statistics in the year 2000's.\n",
    "I'll then move on to analyse the number of wins per driver, number of wins per constructor , Hamilton, Schumacher and Verstappen results, average finishing position in 2022 , and the experience of current drivers over the years.\n",
    "maybe : Can compare if nationality of winner matches that of driver"
   ]
  },
  {
   "cell_type": "code",
   "execution_count": 43,
   "metadata": {},
   "outputs": [],
   "source": [
    "import json\n",
    "import urllib\n",
    "from pathlib import Path\n",
    "from datetime import datetime\n",
    "import pandas as pd\n",
    "import matplotlib\n",
    "import matplotlib.pyplot as plt\n",
    "%matplotlib inline\n",
    "import requests\n",
    "from collections import OrderedDict\n",
    "import numpy as np\n",
    "import glob"
   ]
  },
  {
   "cell_type": "code",
   "execution_count": 44,
   "metadata": {},
   "outputs": [],
   "source": [
    "#Create directory for raw data storage, if it does not already exist:\n",
    "dir_raw = Path(\"raw\")\n",
    "dir_raw.mkdir(parents=True, exist_ok=True)"
   ]
  },
  {
   "cell_type": "code",
   "execution_count": 45,
   "metadata": {},
   "outputs": [],
   "source": [
    "all_results = [] # An empty list that will later store all the  results for races in the years 2000 - 2022\n",
    "\n",
    "\n",
    "def read_and_parse_race_year(race_year):\n",
    "    \"\"\"\n",
    "    This convenient function will read in the data of a given year between 2000 to 2022. \n",
    "    It takes the current year as a parameter therefore I can loop throght the years 2000 - 2022 and\n",
    "    get all the data I need.\n",
    "    \"\"\"\n",
    "    response = requests.get(\"http://ergast.com/api/f1/\"+str(race_year)+\"/results.json\").json()\n",
    "    data = response.get(\"MRData\").get(\"RaceTable\").get(\"Races\")\n",
    "    all_results.extend(data)\n",
    "\n",
    "\n"
   ]
  },
  {
   "cell_type": "markdown",
   "metadata": {},
   "source": [
    "I will then create a loop that uses the above function to collect the race results for the last 22 years."
   ]
  },
  {
   "cell_type": "code",
   "execution_count": 46,
   "metadata": {},
   "outputs": [],
   "source": [
    "year = 2000\n",
    "while year < 2023:\n",
    "   \n",
    "    read_and_parse_race_year(year)\n",
    "    year += 1\n",
    "    \n",
    "# I will then write all the results to a JSON file so that I can be accesible to other notebooks in the project.\n",
    "\n",
    "with open(\"all_results.json\", \"w\") as outfile:\n",
    "        json.dump(all_results, outfile)"
   ]
  },
  {
   "cell_type": "code",
   "execution_count": 41,
   "metadata": {},
   "outputs": [],
   "source": [
    "#This convenient function will read in the data of a driver by the driver name \n",
    "def read_and_parse_driver_data(driver_name):\n",
    "    response = requests.get(\"http://ergast.com/api/f1/drivers/\"+str(driver_name)+\"/results.json\") \n",
    "    jdata = response.text\n",
    "    data = json.loads(jdata) \n",
    "    return(data)"
   ]
  },
  {
   "cell_type": "markdown",
   "metadata": {},
   "source": [
    "I made the directories yearframe.json and driverdata.json and put all the data their in the correct format.\n"
   ]
  }
 ],
 "metadata": {
  "kernelspec": {
   "display_name": "Python 3 (ipykernel)",
   "language": "python",
   "name": "python3"
  },
  "language_info": {
   "codemirror_mode": {
    "name": "ipython",
    "version": 3
   },
   "file_extension": ".py",
   "mimetype": "text/x-python",
   "name": "python",
   "nbconvert_exporter": "python",
   "pygments_lexer": "ipython3",
   "version": "3.10.6"
  }
 },
 "nbformat": 4,
 "nbformat_minor": 4
}
